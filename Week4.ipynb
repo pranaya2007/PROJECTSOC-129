{
 "cells": [
  {
   "cell_type": "code",
   "execution_count": 1,
   "id": "fd3c3849-2235-4272-b772-09cfa8df6950",
   "metadata": {},
   "outputs": [],
   "source": [
    "import pandas as pd\n",
    "import numpy as np\n",
    "import matplotlib.pyplot as plt\n",
    "from ast import literal_eval"
   ]
  },
  {
   "cell_type": "code",
   "execution_count": 6,
   "id": "e9e71983-0d1a-4b8f-a5e7-602392623745",
   "metadata": {},
   "outputs": [
    {
     "name": "stdout",
     "output_type": "stream",
     "text": [
      "Index(['adult', 'belongs_to_collection', 'budget', 'genres', 'homepage', 'id',\n",
      "       'imdb_id', 'original_language', 'original_title', 'overview',\n",
      "       'popularity', 'poster_path', 'production_companies',\n",
      "       'production_countries', 'release_date', 'revenue', 'runtime',\n",
      "       'spoken_languages', 'status', 'tagline', 'title', 'video',\n",
      "       'vote_average', 'vote_count', 'cast', 'crew', 'keywords', 'director',\n",
      "       'main_director', 'soup'],\n",
      "      dtype='object')\n"
     ]
    }
   ],
   "source": [
    "master_dataset_new = pd.read_csv('master_dataset_new.csv')\n",
    "print(master_dataset_new.columns)"
   ]
  },
  {
   "cell_type": "code",
   "execution_count": 8,
   "id": "765cce7c-3c39-4ef0-ac8a-d15dc841024e",
   "metadata": {},
   "outputs": [],
   "source": [
    "## Removing unwanted columns from the dataset - these features can be used if you wish to add more features to your recommender system.\n",
    "## We are not going to use them, so we are removing them.\n",
    "master_dataset_new.drop(['adult', 'belongs_to_collection', 'budget','homepage','original_language', 'production_companies','production_countries', 'revenue', 'runtime','spoken_languages','status','video'],axis=1,inplace=True)\n",
    "master_dataset_new.drop(['overview', 'tagline','vote_average', 'vote_count', 'cast', 'crew','keywords', 'director'],axis=1,inplace=True)\n",
    "master_dataset_new.drop(['id','imdb_id','original_title','poster_path','genres'],axis=1,inplace=True)"
   ]
  },
  {
   "cell_type": "code",
   "execution_count": 9,
   "id": "0ddcf592-0bd2-449c-8776-b527e9e1d663",
   "metadata": {},
   "outputs": [],
   "source": [
    "## Checking popularity column for being non-float data type and removing them\n",
    "master_dataset_new['popularity'] = master_dataset_new.apply(lambda r: r['popularity'] if type(r['popularity']) == float else np.nan, axis=1)\n",
    "master_dataset_new.dropna(inplace=True)\n"
   ]
  },
  {
   "cell_type": "code",
   "execution_count": 10,
   "id": "cab1f570-e8a5-4b6f-8088-4c592839dd52",
   "metadata": {},
   "outputs": [],
   "source": [
    "## Checking director column for being non-string data type and removing them\n",
    "master_dataset_new['main_director'] = master_dataset_new.apply(lambda r: r['main_director'] if len(r['main_director']) > 1 else np.nan, axis=1)\n",
    "master_dataset_new.dropna(inplace=True)\n"
   ]
  },
  {
   "cell_type": "code",
   "execution_count": 11,
   "id": "69f0dc09-01dd-414e-bf38-5a065919799b",
   "metadata": {},
   "outputs": [],
   "source": [
    "## Sorting the whole dataset based on popularity. This will help us to take top X number of movies based on popularity.\n",
    "master_dataset_new.sort_values(by='popularity', ascending=False, inplace=True)\n"
   ]
  },
  {
   "cell_type": "code",
   "execution_count": 12,
   "id": "c2eabaa3-8c50-4080-a28e-85afa780d213",
   "metadata": {},
   "outputs": [],
   "source": [
    "## Dropping popularity column after sorting based on popularity\n",
    "master_dataset_new.drop(['popularity'], axis=1, inplace=True)\n",
    "master_dataset_new.dropna(inplace=True)\n"
   ]
  },
  {
   "cell_type": "code",
   "execution_count": 13,
   "id": "04ca0f87-b73f-442b-89b7-3e3433e987e7",
   "metadata": {},
   "outputs": [],
   "source": [
    "## Reset index because after sorting, the index values have changed.\n",
    "master_dataset_new.reset_index(inplace=True, drop=True)"
   ]
  },
  {
   "cell_type": "code",
   "execution_count": 14,
   "id": "c42336d3-207c-4b46-a4c2-d615769c47dc",
   "metadata": {},
   "outputs": [],
   "source": [
    "## Checking release date column for being non-string data type and removing them\n",
    "master_dataset_new['release_date'] = master_dataset_new.apply(lambda r: r['release_date'] if len(r['release_date']) > 1 else np.nan, axis=1)\n",
    "master_dataset_new.dropna(inplace=True)\n"
   ]
  },
  {
   "cell_type": "code",
   "execution_count": 16,
   "id": "ebc32af0-606b-49cd-8e2b-0cbb9a93fc27",
   "metadata": {},
   "outputs": [],
   "source": [
    "## For Demo, we will take top 2500 movies, which is hosted online already.\n",
    "master_dataset_new = master_dataset_new[:2500]\n"
   ]
  },
  {
   "cell_type": "code",
   "execution_count": 18,
   "id": "3b55f443-4486-436f-82fc-5d313f55d707",
   "metadata": {},
   "outputs": [
    {
     "data": {
      "text/html": [
       "<div>\n",
       "<style scoped>\n",
       "    .dataframe tbody tr th:only-of-type {\n",
       "        vertical-align: middle;\n",
       "    }\n",
       "\n",
       "    .dataframe tbody tr th {\n",
       "        vertical-align: top;\n",
       "    }\n",
       "\n",
       "    .dataframe thead th {\n",
       "        text-align: right;\n",
       "    }\n",
       "</style>\n",
       "<table border=\"1\" class=\"dataframe\">\n",
       "  <thead>\n",
       "    <tr style=\"text-align: right;\">\n",
       "      <th></th>\n",
       "      <th>release_date</th>\n",
       "      <th>title</th>\n",
       "      <th>main_director</th>\n",
       "      <th>soup</th>\n",
       "    </tr>\n",
       "  </thead>\n",
       "  <tbody>\n",
       "    <tr>\n",
       "      <th>0</th>\n",
       "      <td>2015-06-17</td>\n",
       "      <td>Minions</td>\n",
       "      <td>Kyle Balda</td>\n",
       "      <td>assist aftercreditssting duringcreditssting ev...</td>\n",
       "    </tr>\n",
       "    <tr>\n",
       "      <th>1</th>\n",
       "      <td>2017-05-30</td>\n",
       "      <td>Wonder Woman</td>\n",
       "      <td>Patty Jenkins</td>\n",
       "      <td>dccomic hero greekmytholog island worldwari su...</td>\n",
       "    </tr>\n",
       "    <tr>\n",
       "      <th>2</th>\n",
       "      <td>2017-03-16</td>\n",
       "      <td>Beauty and the Beast</td>\n",
       "      <td>Bill Condon</td>\n",
       "      <td>franc magic castl fairytal music curs anthropo...</td>\n",
       "    </tr>\n",
       "    <tr>\n",
       "      <th>3</th>\n",
       "      <td>2017-06-28</td>\n",
       "      <td>Baby Driver</td>\n",
       "      <td>Edgar Wright</td>\n",
       "      <td>robberi atlanta music crimeboss romanc tinnitu...</td>\n",
       "    </tr>\n",
       "    <tr>\n",
       "      <th>4</th>\n",
       "      <td>2014-10-24</td>\n",
       "      <td>Big Hero 6</td>\n",
       "      <td>Chris Williams</td>\n",
       "      <td>brotherbrotherrelationship hero talent reveng ...</td>\n",
       "    </tr>\n",
       "  </tbody>\n",
       "</table>\n",
       "</div>"
      ],
      "text/plain": [
       "  release_date                 title   main_director  \\\n",
       "0   2015-06-17               Minions      Kyle Balda   \n",
       "1   2017-05-30          Wonder Woman   Patty Jenkins   \n",
       "2   2017-03-16  Beauty and the Beast     Bill Condon   \n",
       "3   2017-06-28           Baby Driver    Edgar Wright   \n",
       "4   2014-10-24            Big Hero 6  Chris Williams   \n",
       "\n",
       "                                                soup  \n",
       "0  assist aftercreditssting duringcreditssting ev...  \n",
       "1  dccomic hero greekmytholog island worldwari su...  \n",
       "2  franc magic castl fairytal music curs anthropo...  \n",
       "3  robberi atlanta music crimeboss romanc tinnitu...  \n",
       "4  brotherbrotherrelationship hero talent reveng ...  "
      ]
     },
     "execution_count": 18,
     "metadata": {},
     "output_type": "execute_result"
    }
   ],
   "source": [
    "## This is our final dataset which we will be using for training our word and cosine similarity matrix\n",
    "master_dataset_new.head()"
   ]
  },
  {
   "cell_type": "code",
   "execution_count": 20,
   "id": "7560f7ee-2f99-4932-808c-49b757c9119f",
   "metadata": {},
   "outputs": [
    {
     "name": "stdout",
     "output_type": "stream",
     "text": [
      "(2500, 4)\n"
     ]
    }
   ],
   "source": [
    "print(master_dataset_new.shape)"
   ]
  },
  {
   "cell_type": "code",
   "execution_count": 21,
   "id": "5b9629d4-5f52-4fc1-b2b8-c2aeee242eea",
   "metadata": {},
   "outputs": [],
   "source": [
    "master_dataset_new.to_csv('master_dataset_final.csv', index=False)"
   ]
  },
  {
   "cell_type": "code",
   "execution_count": null,
   "id": "2cf4056e-c465-4a94-b333-dcadb6c16377",
   "metadata": {},
   "outputs": [],
   "source": []
  }
 ],
 "metadata": {
  "kernelspec": {
   "display_name": "Python 3 (ipykernel)",
   "language": "python",
   "name": "python3"
  },
  "language_info": {
   "codemirror_mode": {
    "name": "ipython",
    "version": 3
   },
   "file_extension": ".py",
   "mimetype": "text/x-python",
   "name": "python",
   "nbconvert_exporter": "python",
   "pygments_lexer": "ipython3",
   "version": "3.12.5"
  }
 },
 "nbformat": 4,
 "nbformat_minor": 5
}
