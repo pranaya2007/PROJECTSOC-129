{
 "cells": [
  {
   "cell_type": "code",
   "execution_count": 1,
   "id": "4d62a91f-a7f2-4882-8e4f-904609f76d2b",
   "metadata": {},
   "outputs": [],
   "source": [
    "import pandas as pd"
   ]
  },
  {
   "cell_type": "code",
   "execution_count": 2,
   "id": "7c08fed7-6c62-483f-80e6-cc77b7cfce4a",
   "metadata": {},
   "outputs": [],
   "source": [
    "\n",
    "df1 = pd.read_csv('keywords.csv')\n",
    "df2 = pd.read_csv('credits.csv')\n",
    "df3 = pd.read_csv('links.csv')\n",
    "df4 = pd.read_csv('movies_metadata.csv', low_memory=False)"
   ]
  },
  {
   "cell_type": "code",
   "execution_count": 3,
   "id": "6e3d17ab-645f-4f6f-ac49-c9ef4bd5616e",
   "metadata": {},
   "outputs": [],
   "source": [
    "links = df3[df3['tmdbId'].notnull()]['tmdbId'].astype('int')"
   ]
  },
  {
   "cell_type": "code",
   "execution_count": 4,
   "id": "b3764443-d5c7-4f38-bd98-9b8d8028db73",
   "metadata": {},
   "outputs": [],
   "source": [
    "df4 = df4[df4['id'].notnull()]"
   ]
  },
  {
   "cell_type": "code",
   "execution_count": 5,
   "id": "bae1efee-7c8b-4cb5-ba33-6646e3aa172d",
   "metadata": {},
   "outputs": [],
   "source": [
    "df4['id'] = df4['id'].astype('int', errors='ignore')"
   ]
  },
  {
   "cell_type": "code",
   "execution_count": 6,
   "id": "17670526-a88f-4bcf-bb33-3eb649ad301a",
   "metadata": {},
   "outputs": [],
   "source": [
    "df4 = df4[df4['id'].isin(links)]"
   ]
  },
  {
   "cell_type": "code",
   "execution_count": 7,
   "id": "0cc53458-0eb2-4cc0-8898-5a45441d0177",
   "metadata": {},
   "outputs": [],
   "source": [
    "merged = df4.merge(df1, on='id', how='left')   \n",
    "merged = merged.merge(df2, on='id', how='left')"
   ]
  },
  {
   "cell_type": "code",
   "execution_count": 8,
   "id": "8e4a32ec-b2f4-47de-8fc6-ab074d3f7785",
   "metadata": {},
   "outputs": [],
   "source": [
    "master_dataset = merged\n",
    "links = df3[df3['tmdbId'].notnull()]['tmdbId'].astype('int')\n",
    "master_dataset = master_dataset[master_dataset['id'].isin(links)]\n"
   ]
  },
  {
   "cell_type": "code",
   "execution_count": 9,
   "id": "f7fa8f33-8d4f-43ca-a738-24cbccda2757",
   "metadata": {},
   "outputs": [
    {
     "name": "stdout",
     "output_type": "stream",
     "text": [
      "Index(['adult', 'belongs_to_collection', 'budget', 'genres', 'homepage', 'id',\n",
      "       'imdb_id', 'original_language', 'original_title', 'overview',\n",
      "       'popularity', 'poster_path', 'production_companies',\n",
      "       'production_countries', 'release_date', 'revenue', 'runtime',\n",
      "       'spoken_languages', 'status', 'tagline', 'title', 'video',\n",
      "       'vote_average', 'vote_count', 'keywords', 'cast', 'crew'],\n",
      "      dtype='object')\n"
     ]
    }
   ],
   "source": [
    "print(master_dataset.columns)"
   ]
  }
 ],
 "metadata": {
  "kernelspec": {
   "display_name": "Python 3 (ipykernel)",
   "language": "python",
   "name": "python3"
  },
  "language_info": {
   "codemirror_mode": {
    "name": "ipython",
    "version": 3
   },
   "file_extension": ".py",
   "mimetype": "text/x-python",
   "name": "python",
   "nbconvert_exporter": "python",
   "pygments_lexer": "ipython3",
   "version": "3.13.3"
  }
 },
 "nbformat": 4,
 "nbformat_minor": 5
}
