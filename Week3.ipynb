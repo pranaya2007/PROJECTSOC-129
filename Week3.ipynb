{
 "cells": [
  {
   "cell_type": "code",
   "execution_count": 42,
   "id": "ab39f7c6-d9ba-423b-8ece-3226aa4c14e4",
   "metadata": {},
   "outputs": [],
   "source": [
    "import pandas as pd\n",
    "import numpy as np\n",
    "import matplotlib.pyplot as plt\n",
    "from ast import literal_eval"
   ]
  },
  {
   "cell_type": "code",
   "execution_count": 43,
   "id": "b3e3fa0f-776b-48c6-a3e0-caa08ad442d7",
   "metadata": {},
   "outputs": [
    {
     "name": "stdout",
     "output_type": "stream",
     "text": [
      "(46628, 27)\n"
     ]
    }
   ],
   "source": [
    "master_dataset = pd.read_csv('master_dataset.csv')\n",
    "print(master_dataset.shape)"
   ]
  },
  {
   "cell_type": "code",
   "execution_count": 44,
   "id": "77b73017-70c3-4ee2-a07f-ccf8d7bd596f",
   "metadata": {},
   "outputs": [],
   "source": [
    "## Updating cast, crew and keyword columns by parsing them as their loaded data type is string but need to be converted to list\n",
    "master_dataset['cast']      = master_dataset['cast'].apply(literal_eval)\n",
    "master_dataset['crew']      = master_dataset['crew'].apply(literal_eval)\n",
    "master_dataset['keywords']  = master_dataset['keywords'].apply(literal_eval)"
   ]
  },
  {
   "cell_type": "code",
   "execution_count": 45,
   "id": "61cf3cab-487b-4b5d-a5ca-3d5845594eb2",
   "metadata": {},
   "outputs": [],
   "source": [
    "def get_director(x):\n",
    "    \"\"\"\n",
    "    Extract the Name of the Director for a movie if it is present inside the job\n",
    "    \"\"\"\n",
    "    for i in x:\n",
    "        if i['job'] == 'Director':\n",
    "            return i['name']\n",
    "    return np.nan"
   ]
  },
  {
   "cell_type": "code",
   "execution_count": 46,
   "id": "8ce6e7b2-79c2-4276-aca4-fa7626a39290",
   "metadata": {},
   "outputs": [],
   "source": [
    "## Updating cast to maintain proportion between different lengths (keeping top 3 cast members)\n",
    "master_dataset['cast']      = master_dataset['cast'].apply(lambda x: [i['name'] for i in x] if isinstance(x, list) else [])\n",
    "master_dataset['cast']      = master_dataset['cast'].apply(lambda x: x[:3] if len(x) >=3 else x)\n",
    "\n",
    "## Setting keywords to empty list if does not exists, otherwise taking into account for each word as keyword\n",
    "master_dataset['keywords']  = master_dataset['keywords'].apply(lambda x: [i['name'] for i in x] if isinstance(x, list) else [])\n",
    "\n",
    "## Extracting directory names from the crew\n",
    "master_dataset['director']  = master_dataset['crew'].apply(get_director)"
   ]
  },
  {
   "cell_type": "code",
   "execution_count": 47,
   "id": "b12d0a26-5291-445d-b1d4-21af645058d0",
   "metadata": {},
   "outputs": [],
   "source": [
    "## for uniqueness, removing all the spaces in between the names\n",
    "master_dataset['cast']          = master_dataset['cast'].apply(lambda x: [str.lower(i.replace(\" \", \"\")) for i in x])\n",
    "\n",
    "## Maintaining the original director name as main director\n",
    "master_dataset['main_director'] = master_dataset['director']\n",
    "\n",
    "## Maintaining the number of director to maintain proportion (similar to cast column above)\n",
    "master_dataset['director']      = master_dataset['director'].astype('str').apply(lambda x: str.lower(x.replace(\" \", \"\")))\n",
    "master_dataset['director']      = master_dataset['director'].apply(lambda x: [x,x,x])"
   ]
  },
  {
   "cell_type": "code",
   "execution_count": 48,
   "id": "2d69e774-d2f3-4ded-9c69-8f054f6bdb47",
   "metadata": {},
   "outputs": [
    {
     "name": "stdout",
     "output_type": "stream",
     "text": [
      "keyword\n",
      "woman director      3128\n",
      "independent film    1942\n",
      "murder              1314\n",
      "based on novel       841\n",
      "musical              734\n",
      "Name: count, dtype: int64\n"
     ]
    }
   ],
   "source": [
    "## Stacking the keywords and keeping the movies which containers X number of keywords as minimum\n",
    "s = master_dataset.apply(lambda x: pd.Series(x['keywords']),axis=1).stack().reset_index(level=1, drop=True)\n",
    "s.name = 'keyword'\n",
    "s = s.value_counts()\n",
    "print(s[:5])"
   ]
  },
  {
   "cell_type": "code",
   "execution_count": 49,
   "id": "c8969a40-d085-4abb-8eeb-13f28cebe41d",
   "metadata": {},
   "outputs": [],
   "source": [
    "## Will try to map where more than 1 keyword is present for the movie\n",
    "s = s[s > 1]"
   ]
  },
  {
   "cell_type": "code",
   "execution_count": 50,
   "id": "785bb4b0-cdd4-4614-b7e7-d37073625965",
   "metadata": {},
   "outputs": [],
   "source": [
    "from nltk.stem.snowball import SnowballStemmer\n",
    "\n",
    "# Creating a stemmer object for English\n",
    "stemmer = SnowballStemmer('english')\n",
    "\n",
    "# Stem each keyword\n",
    "master_dataset['keywords'] = master_dataset['keywords'].apply(\n",
    "    lambda x: [stemmer.stem(i) for i in x if len(i) > 1]\n",
    ")\n",
    "\n",
    "# Convert to lowercase and remove spaces\n",
    "master_dataset['keywords'] = master_dataset['keywords'].apply(\n",
    "    lambda x: [i.replace(\" \", \"\").lower() for i in x]\n",
    ")\n"
   ]
  },
  {
   "cell_type": "code",
   "execution_count": 51,
   "id": "230abf23-4e07-493e-befc-2990ad49b6ab",
   "metadata": {},
   "outputs": [
    {
     "data": {
      "text/plain": [
       "0    [jealousi, toy, boy, friendship, friend, rival...\n",
       "1    [boardgam, disappear, basedonchildren'sbook, n...\n",
       "2       [fish, bestfriend, duringcreditssting, oldmen]\n",
       "Name: keywords, dtype: object"
      ]
     },
     "execution_count": 51,
     "metadata": {},
     "output_type": "execute_result"
    }
   ],
   "source": [
    "master_dataset['keywords'].head(3)"
   ]
  },
  {
   "cell_type": "code",
   "execution_count": 53,
   "id": "63cee10d-7bff-4626-99db-de1983659d62",
   "metadata": {},
   "outputs": [],
   "source": [
    "# Ensure all columns are lists of strings\n",
    "for col in ['keywords', 'cast', 'director', 'genres']:\n",
    "    master_dataset[col] = master_dataset[col].apply(lambda x: x if isinstance(x, list) else [])\n",
    "\n",
    "# Combine the lists\n",
    "master_dataset['soup'] = master_dataset['keywords'] + master_dataset['cast'] + master_dataset['director'] + master_dataset['genres']\n",
    "\n",
    "# Join with space to create the soup string\n",
    "master_dataset['soup'] = master_dataset['soup'].apply(lambda x: ' '.join([str(i) for i in x]))\n"
   ]
  },
  {
   "cell_type": "code",
   "execution_count": 54,
   "id": "6d2d59e3-6d41-46d7-b33c-9cdc5c0bb587",
   "metadata": {},
   "outputs": [
    {
     "data": {
      "text/plain": [
       "0    jealousi toy boy friendship friend rivalri boy...\n",
       "1    boardgam disappear basedonchildren'sbook newho...\n",
       "2    fish bestfriend duringcreditssting oldmen walt...\n",
       "Name: soup, dtype: object"
      ]
     },
     "execution_count": 54,
     "metadata": {},
     "output_type": "execute_result"
    }
   ],
   "source": [
    "master_dataset['soup'].head(3)"
   ]
  },
  {
   "cell_type": "code",
   "execution_count": 55,
   "id": "3ec76c71-7b06-4fc7-9a68-16da5c97320b",
   "metadata": {},
   "outputs": [
    {
     "name": "stdout",
     "output_type": "stream",
     "text": [
      "Index(['adult', 'belongs_to_collection', 'budget', 'genres', 'homepage', 'id',\n",
      "       'imdb_id', 'original_language', 'original_title', 'overview',\n",
      "       'popularity', 'poster_path', 'production_companies',\n",
      "       'production_countries', 'release_date', 'revenue', 'runtime',\n",
      "       'spoken_languages', 'status', 'tagline', 'title', 'video',\n",
      "       'vote_average', 'vote_count', 'cast', 'crew', 'keywords', 'director',\n",
      "       'main_director', 'soup'],\n",
      "      dtype='object')\n"
     ]
    }
   ],
   "source": [
    "print(master_dataset.columns)"
   ]
  },
  {
   "cell_type": "code",
   "execution_count": 60,
   "id": "2dcfbebd-bb79-4344-9840-9838197a8951",
   "metadata": {},
   "outputs": [],
   "source": [
    "master_dataset.to_csv('master_dataset_new.csv', index=False)"
   ]
  },
  {
   "cell_type": "code",
   "execution_count": null,
   "id": "44a30037-718a-4c91-ae72-fa9138ff9172",
   "metadata": {},
   "outputs": [],
   "source": []
  }
 ],
 "metadata": {
  "kernelspec": {
   "display_name": "Python 3 (ipykernel)",
   "language": "python",
   "name": "python3"
  },
  "language_info": {
   "codemirror_mode": {
    "name": "ipython",
    "version": 3
   },
   "file_extension": ".py",
   "mimetype": "text/x-python",
   "name": "python",
   "nbconvert_exporter": "python",
   "pygments_lexer": "ipython3",
   "version": "3.12.5"
  }
 },
 "nbformat": 4,
 "nbformat_minor": 5
}
