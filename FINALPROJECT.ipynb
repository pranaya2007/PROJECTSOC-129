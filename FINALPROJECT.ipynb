{
 "cells": [
  {
   "cell_type": "code",
   "execution_count": 1,
   "id": "26fd579e-6d13-4109-9238-38941cfb96b2",
   "metadata": {},
   "outputs": [
    {
     "name": "stdout",
     "output_type": "stream",
     "text": [
      "(46629, 27)\n",
      "      id                                             genres  \\\n",
      "0    862  [{'id': 16, 'name': 'Animation'}, {'id': 35, '...   \n",
      "1   8844  [{'id': 12, 'name': 'Adventure'}, {'id': 14, '...   \n",
      "2  15602  [{'id': 10749, 'name': 'Romance'}, {'id': 35, ...   \n",
      "3  31357  [{'id': 35, 'name': 'Comedy'}, {'id': 18, 'nam...   \n",
      "4  11862                     [{'id': 35, 'name': 'Comedy'}]   \n",
      "\n",
      "                                            keywords  \\\n",
      "0  [{'id': 931, 'name': 'jealousy'}, {'id': 4290,...   \n",
      "1  [{'id': 10090, 'name': 'board game'}, {'id': 1...   \n",
      "2  [{'id': 1495, 'name': 'fishing'}, {'id': 12392...   \n",
      "3  [{'id': 818, 'name': 'based on novel'}, {'id':...   \n",
      "4  [{'id': 1009, 'name': 'baby'}, {'id': 1599, 'n...   \n",
      "\n",
      "                                                cast  \n",
      "0  [{'cast_id': 14, 'character': 'Woody (voice)',...  \n",
      "1  [{'cast_id': 1, 'character': 'Alan Parrish', '...  \n",
      "2  [{'cast_id': 2, 'character': 'Max Goldman', 'c...  \n",
      "3  [{'cast_id': 1, 'character': \"Savannah 'Vannah...  \n",
      "4  [{'cast_id': 1, 'character': 'George Banks', '...  \n"
     ]
    }
   ],
   "source": [
    "import pandas as pd\n",
    "\n",
    "\n",
    "df1 = pd.read_csv('keywords.csv')\n",
    "df2 = pd.read_csv('credits.csv')\n",
    "df3 = pd.read_csv('links.csv')\n",
    "df4 = pd.read_csv('movies_metadata.csv', low_memory=False)\n",
    "\n",
    "df4 = df4[df4['id'].apply(lambda x: x.isnumeric())]\n",
    "df4['id'] = df4['id'].astype(int)\n",
    "\n",
    "df3 = df3[df3['tmdbId'].notnull()]\n",
    "links = df3['tmdbId'].astype(int)\n",
    "\n",
    "df4 = df4[df4['id'].isin(links)]\n",
    "\n",
    "merged = df4.merge(df1, on='id', how='left')\n",
    "merged = merged.merge(df2, on='id', how='left')\n",
    "\n",
    "master_dataset = merged\n",
    "\n",
    "print(master_dataset.shape)\n",
    "print(master_dataset[['id', 'genres', 'keywords', 'cast']].head())"
   ]
  },
  {
   "cell_type": "code",
   "execution_count": 2,
   "id": "c3a12330-4d8e-4de3-8b4f-36905f4e9133",
   "metadata": {},
   "outputs": [],
   "source": [
    "import ast\n",
    "\n",
    "def get_director(crew_str):\n",
    "    try:\n",
    "        crew_list = ast.literal_eval(crew_str)\n",
    "        for member in crew_list:\n",
    "            if member.get('job') == 'Director':\n",
    "                return member.get('name', '')\n",
    "    except:\n",
    "        return ''\n",
    "    return ''\n",
    "\n",
    "df2['director'] = df2['crew'].apply(get_director)\n"
   ]
  },
  {
   "cell_type": "code",
   "execution_count": 3,
   "id": "a3bf4a48-e68a-454b-b6d9-c52778ac6786",
   "metadata": {},
   "outputs": [],
   "source": [
    "merged = df4.merge(df1, on='id', how='left')\n",
    "merged = merged.merge(df2, on='id', how='left')\n",
    "master_dataset = merged\n"
   ]
  },
  {
   "cell_type": "code",
   "execution_count": 4,
   "id": "48862a01-91dd-4bd3-ac85-43348fb39e05",
   "metadata": {},
   "outputs": [],
   "source": [
    "for col in ['genres', 'keywords', 'cast', 'director']:\n",
    "    master_dataset[col] = master_dataset[col].fillna(\"\")\n"
   ]
  },
  {
   "cell_type": "code",
   "execution_count": 5,
   "id": "125fecf3-69e5-4668-a203-1c56820f2de3",
   "metadata": {},
   "outputs": [
    {
     "name": "stdout",
     "output_type": "stream",
     "text": [
      "(46629, 28)\n"
     ]
    }
   ],
   "source": [
    "print(master_dataset.shape)\n"
   ]
  },
  {
   "cell_type": "code",
   "execution_count": 6,
   "id": "ee6ad05e-2243-41b9-8181-b601b6bc8bd0",
   "metadata": {},
   "outputs": [
    {
     "name": "stdout",
     "output_type": "stream",
     "text": [
      "Index(['adult', 'belongs_to_collection', 'budget', 'genres', 'homepage', 'id',\n",
      "       'imdb_id', 'original_language', 'original_title', 'overview',\n",
      "       'popularity', 'poster_path', 'production_companies',\n",
      "       'production_countries', 'release_date', 'revenue', 'runtime',\n",
      "       'spoken_languages', 'status', 'tagline', 'title', 'video',\n",
      "       'vote_average', 'vote_count', 'keywords', 'cast', 'crew', 'director'],\n",
      "      dtype='object')\n"
     ]
    }
   ],
   "source": [
    "print(master_dataset.columns)\n"
   ]
  },
  {
   "cell_type": "code",
   "execution_count": 7,
   "id": "b470c31e-0fcb-41c1-b8d1-4ad16138aa6b",
   "metadata": {},
   "outputs": [],
   "source": [
    "from sklearn.feature_extraction.text import CountVectorizer\n",
    "from sklearn.metrics.pairwise import cosine_similarity\n",
    "import pandas as pd\n",
    "from tabulate import tabulate"
   ]
  },
  {
   "cell_type": "code",
   "execution_count": 8,
   "id": "66f5d57a-6bf1-4312-889b-aef31dea5794",
   "metadata": {},
   "outputs": [],
   "source": [
    "for col in ['genres', 'keywords', 'cast', 'director']:\n",
    "    master_dataset[col] = master_dataset[col].fillna(\"\")\n"
   ]
  },
  {
   "cell_type": "code",
   "execution_count": 9,
   "id": "d0fbd24e-3e97-454e-ac62-d4e01fca1ae2",
   "metadata": {},
   "outputs": [],
   "source": [
    "def combine_features(row):\n",
    "    return f\"{row['genres']} {row['keywords']} {row['cast']} {row['director']}\""
   ]
  },
  {
   "cell_type": "code",
   "execution_count": 10,
   "id": "b24432d3-6718-4205-a4c8-27f14dfb589d",
   "metadata": {},
   "outputs": [],
   "source": [
    "master_dataset['combined_features'] = master_dataset.apply(combine_features, axis=1)"
   ]
  },
  {
   "cell_type": "code",
   "execution_count": 11,
   "id": "053b3dc5-d46f-4132-942f-707f12cd06a0",
   "metadata": {},
   "outputs": [],
   "source": [
    "cv = CountVectorizer()\n",
    "count_matrix = cv.fit_transform(master_dataset['combined_features'])"
   ]
  },
  {
   "cell_type": "code",
   "execution_count": 12,
   "id": "911e8d18-0f26-4df6-9913-48506201b5c6",
   "metadata": {},
   "outputs": [],
   "source": [
    "cosine_sim = cosine_similarity(count_matrix)\n",
    "\n",
    "# === STEP 5: Map titles to their index for lookup ===\n",
    "master_dataset['title_cleaned'] = master_dataset['title'].str.lower().str.strip()\n",
    "title_index = pd.Series(master_dataset.index, index=master_dataset['title_cleaned'])\n"
   ]
  },
  {
   "cell_type": "code",
   "execution_count": 17,
   "id": "de716d57-09ff-4eb0-9d45-c3f509bd0f04",
   "metadata": {},
   "outputs": [],
   "source": [
    "def get_recommendations(movie_name, top_n=10):\n",
    "    movie_name = movie_name.strip().lower()\n",
    "\n",
    "    if movie_name not in title_index:\n",
    "        return f\"❌ '{movie_name}' not found in the dataset.\"\n",
    "\n",
    "    idx = title_index[movie_name]\n",
    "    sim_scores = list(enumerate(cosine_sim[idx]))\n",
    "    sim_scores = sorted(sim_scores, key=lambda x: x[1], reverse=True)[1:top_n+1]\n",
    "\n",
    "    movie_indices = [i[0] for i in sim_scores]\n",
    "    recommended = master_dataset.iloc[movie_indices][['title', 'director', 'release_date']].copy()\n",
    "    recommended.columns = ['Movie Title', 'Director', 'Release Date']\n",
    "    \n",
    "    return tabulate(recommended.fillna(\"Unknown\"), headers=\"keys\", tablefmt=\"psql\", showindex=False)"
   ]
  },
  {
   "cell_type": "code",
   "execution_count": 18,
   "id": "5452492e-7ad6-44fd-af69-db5c302da814",
   "metadata": {},
   "outputs": [],
   "source": [
    "# Clean titles and map to index\n",
    "master_dataset['title_cleaned'] = master_dataset['title'].str.lower().str.strip()\n",
    "title_index = pd.Series(master_dataset.index, index=master_dataset['title_cleaned'])\n"
   ]
  },
  {
   "cell_type": "code",
   "execution_count": 27,
   "id": "71f19542-12eb-4c93-b224-65e30a8746fa",
   "metadata": {},
   "outputs": [],
   "source": [
    "from tabulate import tabulate\n",
    "\n",
    "def get_recommendations(movie_name, top_n=10):\n",
    "    movie_name_cleaned = movie_name.lower().strip()\n",
    "    \n",
    "    if movie_name_cleaned not in title_index:\n",
    "        return f\"❌ Movie '{movie_name}' not found in the dataset.\"\n",
    "\n",
    "    # Step 1: Get index of the movie\n",
    "    movie_idx = title_index[movie_name_cleaned]\n",
    "\n",
    "    # Step 2: Get similarity scores for this movie\n",
    "    sim_scores = list(enumerate(cosine_sim[movie_idx]))\n",
    "\n",
    "    # Step 3: Sort movies by similarity (excluding itself)\n",
    "    sim_scores = sorted(sim_scores, key=lambda x: x[1], reverse=True)[1:top_n+1]\n",
    "\n",
    "    # Step 4: Get movie indices\n",
    "    movie_indices = [i[0] for i in sim_scores]\n",
    "\n",
    "    # Step 5: Fetch relevant movie info\n",
    "    recommended = master_dataset.iloc[movie_indices][['title', 'director', 'release_date']]\n",
    "\n",
    "    return tabulate(recommended, headers=\"keys\", tablefmt=\"psql\", showindex=False)\n"
   ]
  },
  {
   "cell_type": "code",
   "execution_count": 28,
   "id": "ad45dab7-0e60-4b6f-b21e-7758a10c1eb5",
   "metadata": {},
   "outputs": [
    {
     "name": "stdout",
     "output_type": "stream",
     "text": [
      "+--------------------------------+-------------------+----------------+\n",
      "| title                          | director          | release_date   |\n",
      "|--------------------------------+-------------------+----------------|\n",
      "| Django Unchained               | Quentin Tarantino | 2012-12-25     |\n",
      "| American Gangster              | Ridley Scott      | 2007-11-02     |\n",
      "| Changeling                     | Clint Eastwood    | 2008-01-30     |\n",
      "| Spider-Man                     | Sam Raimi         | 2002-05-01     |\n",
      "| Assassin's Creed               | Justin Kurzel     | 2016-12-21     |\n",
      "| Logan                          | James Mangold     | 2017-02-28     |\n",
      "| The Social Network             | David Fincher     | 2010-09-30     |\n",
      "| Guardians of the Galaxy Vol. 2 | James Gunn        | 2017-04-19     |\n",
      "| Batman Begins                  | Christopher Nolan | 2005-06-10     |\n",
      "| The Pianist                    | Roman Polanski    | 2002-09-24     |\n",
      "+--------------------------------+-------------------+----------------+\n"
     ]
    }
   ],
   "source": [
    "print(get_recommendations(\"Avatar\"))\n"
   ]
  },
  {
   "cell_type": "code",
   "execution_count": 19,
   "id": "d6a90d52-7412-400a-99ff-47a77cfe2c60",
   "metadata": {},
   "outputs": [],
   "source": [
    "from tabulate import tabulate\n",
    "\n",
    "def get_recommendations(movie_name, top_n=10):\n",
    "    movie_name_cleaned = movie_name.lower().strip()\n",
    "\n",
    "    if movie_name_cleaned not in title_index:\n",
    "        return f\"❌ Movie '{movie_name}' not found in the dataset.\"\n",
    "\n",
    "    # Step 1: Get index of the movie\n",
    "    idx = title_index[movie_name_cleaned]\n",
    "\n",
    "    # Step 2: Get pairwise similarity scores\n",
    "    sim_scores = list(enumerate(cosine_sim[idx]))\n",
    "\n",
    "    # Step 3: Sort movies based on similarity scores\n",
    "    sim_scores = sorted(sim_scores, key=lambda x: x[1], reverse=True)\n",
    "\n",
    "    # Step 4: Get top_n most similar movie indices (skip the movie itself at index 0)\n",
    "    top_indices = [i[0] for i in sim_scores[1:top_n + 1]]\n",
    "\n",
    "    # Step 5: Prepare the data\n",
    "    recommendations = master_dataset.iloc[top_indices][['title', 'director', 'release_date']]\n",
    "\n",
    "    # Step 6: Format and return as a table\n",
    "    return tabulate(recommendations, headers=\"keys\", tablefmt=\"fancy_grid\", showindex=False)\n"
   ]
  },
  {
   "cell_type": "code",
   "execution_count": null,
   "id": "db97963e-ce2e-48eb-aa57-f4a45fe6f5e4",
   "metadata": {},
   "outputs": [],
   "source": []
  }
 ],
 "metadata": {
  "kernelspec": {
   "display_name": "Python 3 (ipykernel)",
   "language": "python",
   "name": "python3"
  },
  "language_info": {
   "codemirror_mode": {
    "name": "ipython",
    "version": 3
   },
   "file_extension": ".py",
   "mimetype": "text/x-python",
   "name": "python",
   "nbconvert_exporter": "python",
   "pygments_lexer": "ipython3",
   "version": "3.13.3"
  }
 },
 "nbformat": 4,
 "nbformat_minor": 5
}
